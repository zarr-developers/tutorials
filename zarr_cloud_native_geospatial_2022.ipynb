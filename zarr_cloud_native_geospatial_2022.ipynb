{
 "cells": [
  {
   "cell_type": "markdown",
   "id": "a2416980-93eb-4c03-ad75-f75be23e596d",
   "metadata": {},
   "source": [
    "# Zarr Tutorial\n",
    "\n",
    "Level: intermediate python programs. Ideally already a bit familiar with Numpy and Xarray.\n",
    "\n",
    "- Binder repo\n",
    "- High level - two ways to user Zarr: _directly use Zarr_ or _use Zarr as a underlying storage format for a high-level tool (e.g. GDAL or Xarray)_\n",
    "- Start with basics from https://zarr.readthedocs.io/en/stable/tutorial.html\n",
    "- Talk about fsspec and cloud filesystems\n",
    "- Using Zarr with Xarray\n",
    "    - and dask\n",
    "- Working with existing data in the cloud\n",
    "    - Something from https://pangeo-data.github.io/pangeo-cmip6-cloud/overview.html\n",
    "- Kerchunk?\n",
    "- Xpublish - https://xpublish.readthedocs.io/en/latest/\n",
    "  (see also Joe Hamman's talk)"
   ]
  },
  {
   "cell_type": "markdown",
   "id": "f4e8912c-6cdb-4e9c-af22-fc2071047887",
   "metadata": {},
   "source": [
    "## Review: NumPy\n",
    "\n",
    "- shape\n",
    "- dtype"
   ]
  },
  {
   "cell_type": "code",
   "execution_count": null,
   "id": "4d89cb0b-f3cd-4ff2-8c97-5e4db5e60165",
   "metadata": {},
   "outputs": [],
   "source": []
  },
  {
   "cell_type": "markdown",
   "id": "46a9aa21-acf2-4327-8deb-04d4b3ea05ae",
   "metadata": {},
   "source": [
    "## Zarr Fundamentals\n",
    "\n",
    "- Array\n",
    "  - Shape\n",
    "  - Dtype\n",
    "  - Filter / compressors\n",
    "  - Attributes\n",
    "- Group\n",
    "- Store"
   ]
  },
  {
   "cell_type": "code",
   "execution_count": null,
   "id": "8a050e15-ae6e-470d-b13c-f63e96e95623",
   "metadata": {},
   "outputs": [],
   "source": []
  },
  {
   "cell_type": "markdown",
   "id": "17fb5bc8-9a69-4daa-aa75-99928ed6b104",
   "metadata": {},
   "source": [
    "### Choosing Chunks\n",
    "\n",
    "Compare performance for different use cases."
   ]
  },
  {
   "cell_type": "code",
   "execution_count": null,
   "id": "7f1b04df-8be4-4203-95ff-a8fdf7d23bac",
   "metadata": {},
   "outputs": [],
   "source": []
  },
  {
   "cell_type": "markdown",
   "id": "78503d31-9bfa-4873-9da7-d1ce8a65abee",
   "metadata": {},
   "source": [
    "### Resizing Arrays"
   ]
  },
  {
   "cell_type": "markdown",
   "id": "686d6e0a-9145-41fb-83df-b447ec34adf1",
   "metadata": {},
   "source": [
    "## Zarr in the Cloud"
   ]
  },
  {
   "cell_type": "code",
   "execution_count": null,
   "id": "ced2460a-e260-49c8-bb59-54e85e8a4acd",
   "metadata": {},
   "outputs": [],
   "source": []
  },
  {
   "cell_type": "markdown",
   "id": "219c7b84-924a-4d88-ac54-5b84b838f292",
   "metadata": {},
   "source": [
    "### What is a Zarr Store?"
   ]
  },
  {
   "cell_type": "code",
   "execution_count": null,
   "id": "a0ee4cba-4d7b-4b31-8355-fafe49c48d7e",
   "metadata": {},
   "outputs": [],
   "source": []
  },
  {
   "cell_type": "markdown",
   "id": "bdfe9a46-3e4a-4070-8d94-41d10888651d",
   "metadata": {},
   "source": [
    "### Filesystem Spec"
   ]
  },
  {
   "cell_type": "code",
   "execution_count": null,
   "id": "fe312fb6-1a1f-46ec-8570-aacbe26addb0",
   "metadata": {},
   "outputs": [],
   "source": []
  },
  {
   "cell_type": "markdown",
   "id": "c061e395-63e9-4191-bd08-3bde9206a609",
   "metadata": {},
   "source": [
    "### Reading and Writing to Cloud Object Storage"
   ]
  },
  {
   "cell_type": "code",
   "execution_count": null,
   "id": "21b5b0dd-a4cc-475a-a40b-cc8b1e9721d2",
   "metadata": {},
   "outputs": [],
   "source": []
  },
  {
   "cell_type": "markdown",
   "id": "92886b92-384d-4473-857b-935ec58a4fb9",
   "metadata": {},
   "source": [
    "## Zarr + Xarray (+ Dask)"
   ]
  },
  {
   "cell_type": "markdown",
   "id": "30d8529e-3718-4d80-958a-8865d6bf62c4",
   "metadata": {},
   "source": [
    "### Quick Review of Xarray"
   ]
  },
  {
   "cell_type": "code",
   "execution_count": null,
   "id": "3116507f-47b9-4446-9248-dad343bc33a9",
   "metadata": {},
   "outputs": [],
   "source": []
  },
  {
   "cell_type": "markdown",
   "id": "816ada86-69b1-4f4c-9008-696a1e4d64f7",
   "metadata": {},
   "source": [
    "### Writing Zarr from Xarray\n",
    "\n",
    "Discuss how Xarray encodes dimensions"
   ]
  },
  {
   "cell_type": "code",
   "execution_count": null,
   "id": "64d74e98-fa7b-4eb3-b192-088129ce4b36",
   "metadata": {},
   "outputs": [],
   "source": []
  },
  {
   "cell_type": "markdown",
   "id": "c2681cb5-f0c9-4757-a1f3-834a5e9172a5",
   "metadata": {},
   "source": [
    "### Reading Zarr from Xarray\n",
    "\n",
    "With and without chunks"
   ]
  },
  {
   "cell_type": "code",
   "execution_count": null,
   "id": "a748a25c-2083-412d-b89f-1f530650bece",
   "metadata": {},
   "outputs": [],
   "source": []
  },
  {
   "cell_type": "markdown",
   "id": "d839de4e-5d65-40a3-a5f0-588d7bdadae1",
   "metadata": {},
   "source": [
    "## Example Workflows"
   ]
  },
  {
   "cell_type": "markdown",
   "id": "35667caf-7a69-4809-9b6f-48dacfc912cb",
   "metadata": {},
   "source": [
    "### Work with Existing CMIP6 cloud data"
   ]
  },
  {
   "cell_type": "code",
   "execution_count": null,
   "id": "92629373-3b31-4605-8ae7-1b8dfee41fbb",
   "metadata": {},
   "outputs": [],
   "source": []
  },
  {
   "cell_type": "markdown",
   "id": "15c4436a-1978-4bd5-97dc-f16413a2a131",
   "metadata": {},
   "source": [
    "### Produce an ARCO datacube from STAC catalog"
   ]
  },
  {
   "cell_type": "code",
   "execution_count": null,
   "id": "f30d2a8d-3d8d-4f1a-9dff-04233877c42b",
   "metadata": {},
   "outputs": [],
   "source": []
  }
 ],
 "metadata": {
  "kernelspec": {
   "display_name": "Python 3 (ipykernel)",
   "language": "python",
   "name": "python3"
  },
  "language_info": {
   "codemirror_mode": {
    "name": "ipython",
    "version": 3
   },
   "file_extension": ".py",
   "mimetype": "text/x-python",
   "name": "python",
   "nbconvert_exporter": "python",
   "pygments_lexer": "ipython3",
   "version": "3.8.10"
  }
 },
 "nbformat": 4,
 "nbformat_minor": 5
}
